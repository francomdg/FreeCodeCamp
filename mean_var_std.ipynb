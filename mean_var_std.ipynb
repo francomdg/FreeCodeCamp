{
 "cells": [
  {
   "cell_type": "code",
   "execution_count": 10,
   "id": "60159807-780a-4cc5-be1c-cdce054e4728",
   "metadata": {
    "tags": []
   },
   "outputs": [],
   "source": [
    "import numpy as np\n",
    "\n",
    "def calculate(list):\n",
    "  \n",
    "  try:\n",
    "      #3X3 matrix\n",
    "      num_array = np.array(list).reshape(3,3)\n",
    "        \n",
    "      #mean across column, row, and mean of matrix\n",
    "      mean_row = num_array.mean(axis = 0).tolist() \n",
    "      mean_col = num_array.mean(axis = 1).tolist()\n",
    "      mean_val = num_array.mean()\n",
    "      #variance across rows, column and variance of whole matrix\n",
    "      vari_row = num_array.var(axis = 0).tolist()\n",
    "      vari_col = num_array.var(axis = 1).tolist()\n",
    "      variance = num_array.var()\n",
    "      #standard deviation across Row, column and whole matrix\n",
    "      sd_row = num_array.std(axis = 0).tolist() \n",
    "      sd_col = num_array.std(axis = 1).tolist()\n",
    "      sd =  num_array.std()\n",
    "      #maximum across column, row and whole matrix\n",
    "      max_row = num_array.max(axis = 0).tolist() \n",
    "      max_col = num_array.max(axis = 1).tolist() \n",
    "      maximum = num_array.max()\n",
    "      #minimum across Row, column and minimum of whole matrix\n",
    "      min_row = num_array.min(axis=0).tolist() \n",
    "      min_col = num_array.min(axis=1).tolist() \n",
    "      minimum = num_array.min()\n",
    "      #sum across Row, column and sum of whole matrix\n",
    "      sum_row = num_array.sum(axis=0).tolist()\n",
    "      sum_col = num_array.sum(axis=1).tolist()\n",
    "      sum_val = num_array.sum()\n",
    "      #Result into a dictionary value  \n",
    "      calulation = {'mean': [mean_row, mean_col, mean_val],\n",
    "             'variance': [vari_row, vari_col, variance],\n",
    "             'standard deviation': [sd_row, sd_col, sd],\n",
    "             'max' : [max_row, max_col, maximum],\n",
    "             'min' : [min_row, min_col, minimum],\n",
    "             'sum' : [sum_row, sum_col, sum_val]\n",
    "             }\n",
    "      return calulation\n",
    "  except ValueError:\n",
    "    print('List must contain nine numbers.')"
   ]
  },
  {
   "cell_type": "code",
   "execution_count": 6,
   "id": "ff37a021-5979-4253-943b-3bc0d75a2b2a",
   "metadata": {
    "tags": []
   },
   "outputs": [
    {
     "data": {
      "text/plain": [
       "{'mean': [[3.0, 4.0, 5.0], [1.0, 4.0, 7.0], 4.0],\n",
       " 'variance': [[6.0, 6.0, 6.0],\n",
       "  [0.6666666666666666, 0.6666666666666666, 0.6666666666666666],\n",
       "  6.666666666666667],\n",
       " 'standard deviation': [[2.449489742783178,\n",
       "   2.449489742783178,\n",
       "   2.449489742783178],\n",
       "  [0.816496580927726, 0.816496580927726, 0.816496580927726],\n",
       "  2.581988897471611],\n",
       " 'max': [[6, 7, 8], [2, 5, 8], 8],\n",
       " 'min': [[0, 1, 2], [0, 3, 6], 0],\n",
       " 'sum': [[9, 12, 15], [3, 12, 21], 36]}"
      ]
     },
     "execution_count": 6,
     "metadata": {},
     "output_type": "execute_result"
    }
   ],
   "source": [
    "calculate([0,1,2,3,4,5,6,7,8])"
   ]
  }
 ],
 "metadata": {
  "kernelspec": {
   "display_name": "Python 3 (ipykernel)",
   "language": "python",
   "name": "python3"
  },
  "language_info": {
   "codemirror_mode": {
    "name": "ipython",
    "version": 3
   },
   "file_extension": ".py",
   "mimetype": "text/x-python",
   "name": "python",
   "nbconvert_exporter": "python",
   "pygments_lexer": "ipython3",
   "version": "3.10.12"
  }
 },
 "nbformat": 4,
 "nbformat_minor": 5
}
