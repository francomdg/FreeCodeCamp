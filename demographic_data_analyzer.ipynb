{
 "cells": [
  {
   "cell_type": "code",
   "execution_count": 9,
   "id": "bdeacbb1-b1c1-4775-b38b-d58ae3296a7b",
   "metadata": {
    "tags": []
   },
   "outputs": [
    {
     "data": {
      "text/html": [
       "<div>\n",
       "<style scoped>\n",
       "    .dataframe tbody tr th:only-of-type {\n",
       "        vertical-align: middle;\n",
       "    }\n",
       "\n",
       "    .dataframe tbody tr th {\n",
       "        vertical-align: top;\n",
       "    }\n",
       "\n",
       "    .dataframe thead th {\n",
       "        text-align: right;\n",
       "    }\n",
       "</style>\n",
       "<table border=\"1\" class=\"dataframe\">\n",
       "  <thead>\n",
       "    <tr style=\"text-align: right;\">\n",
       "      <th></th>\n",
       "      <th>age</th>\n",
       "      <th>workclass</th>\n",
       "      <th>fnlwgt</th>\n",
       "      <th>education</th>\n",
       "      <th>education-num</th>\n",
       "      <th>marital-status</th>\n",
       "      <th>occupation</th>\n",
       "      <th>relationship</th>\n",
       "      <th>race</th>\n",
       "      <th>sex</th>\n",
       "      <th>capital-gain</th>\n",
       "      <th>capital-loss</th>\n",
       "      <th>hours-per-week</th>\n",
       "      <th>native-country</th>\n",
       "      <th>salary</th>\n",
       "    </tr>\n",
       "  </thead>\n",
       "  <tbody>\n",
       "    <tr>\n",
       "      <th>0</th>\n",
       "      <td>39</td>\n",
       "      <td>State-gov</td>\n",
       "      <td>77516</td>\n",
       "      <td>Bachelors</td>\n",
       "      <td>13</td>\n",
       "      <td>Never-married</td>\n",
       "      <td>Adm-clerical</td>\n",
       "      <td>Not-in-family</td>\n",
       "      <td>White</td>\n",
       "      <td>Male</td>\n",
       "      <td>2174</td>\n",
       "      <td>0</td>\n",
       "      <td>40</td>\n",
       "      <td>United-States</td>\n",
       "      <td>&lt;=50K</td>\n",
       "    </tr>\n",
       "    <tr>\n",
       "      <th>1</th>\n",
       "      <td>50</td>\n",
       "      <td>Self-emp-not-inc</td>\n",
       "      <td>83311</td>\n",
       "      <td>Bachelors</td>\n",
       "      <td>13</td>\n",
       "      <td>Married-civ-spouse</td>\n",
       "      <td>Exec-managerial</td>\n",
       "      <td>Husband</td>\n",
       "      <td>White</td>\n",
       "      <td>Male</td>\n",
       "      <td>0</td>\n",
       "      <td>0</td>\n",
       "      <td>13</td>\n",
       "      <td>United-States</td>\n",
       "      <td>&lt;=50K</td>\n",
       "    </tr>\n",
       "    <tr>\n",
       "      <th>2</th>\n",
       "      <td>38</td>\n",
       "      <td>Private</td>\n",
       "      <td>215646</td>\n",
       "      <td>HS-grad</td>\n",
       "      <td>9</td>\n",
       "      <td>Divorced</td>\n",
       "      <td>Handlers-cleaners</td>\n",
       "      <td>Not-in-family</td>\n",
       "      <td>White</td>\n",
       "      <td>Male</td>\n",
       "      <td>0</td>\n",
       "      <td>0</td>\n",
       "      <td>40</td>\n",
       "      <td>United-States</td>\n",
       "      <td>&lt;=50K</td>\n",
       "    </tr>\n",
       "    <tr>\n",
       "      <th>3</th>\n",
       "      <td>53</td>\n",
       "      <td>Private</td>\n",
       "      <td>234721</td>\n",
       "      <td>11th</td>\n",
       "      <td>7</td>\n",
       "      <td>Married-civ-spouse</td>\n",
       "      <td>Handlers-cleaners</td>\n",
       "      <td>Husband</td>\n",
       "      <td>Black</td>\n",
       "      <td>Male</td>\n",
       "      <td>0</td>\n",
       "      <td>0</td>\n",
       "      <td>40</td>\n",
       "      <td>United-States</td>\n",
       "      <td>&lt;=50K</td>\n",
       "    </tr>\n",
       "    <tr>\n",
       "      <th>4</th>\n",
       "      <td>28</td>\n",
       "      <td>Private</td>\n",
       "      <td>338409</td>\n",
       "      <td>Bachelors</td>\n",
       "      <td>13</td>\n",
       "      <td>Married-civ-spouse</td>\n",
       "      <td>Prof-specialty</td>\n",
       "      <td>Wife</td>\n",
       "      <td>Black</td>\n",
       "      <td>Female</td>\n",
       "      <td>0</td>\n",
       "      <td>0</td>\n",
       "      <td>40</td>\n",
       "      <td>Cuba</td>\n",
       "      <td>&lt;=50K</td>\n",
       "    </tr>\n",
       "  </tbody>\n",
       "</table>\n",
       "</div>"
      ],
      "text/plain": [
       "   age         workclass  fnlwgt  education  education-num  \\\n",
       "0   39         State-gov   77516  Bachelors             13   \n",
       "1   50  Self-emp-not-inc   83311  Bachelors             13   \n",
       "2   38           Private  215646    HS-grad              9   \n",
       "3   53           Private  234721       11th              7   \n",
       "4   28           Private  338409  Bachelors             13   \n",
       "\n",
       "       marital-status         occupation   relationship   race     sex  \\\n",
       "0       Never-married       Adm-clerical  Not-in-family  White    Male   \n",
       "1  Married-civ-spouse    Exec-managerial        Husband  White    Male   \n",
       "2            Divorced  Handlers-cleaners  Not-in-family  White    Male   \n",
       "3  Married-civ-spouse  Handlers-cleaners        Husband  Black    Male   \n",
       "4  Married-civ-spouse     Prof-specialty           Wife  Black  Female   \n",
       "\n",
       "   capital-gain  capital-loss  hours-per-week native-country salary  \n",
       "0          2174             0              40  United-States  <=50K  \n",
       "1             0             0              13  United-States  <=50K  \n",
       "2             0             0              40  United-States  <=50K  \n",
       "3             0             0              40  United-States  <=50K  \n",
       "4             0             0              40           Cuba  <=50K  "
      ]
     },
     "execution_count": 9,
     "metadata": {},
     "output_type": "execute_result"
    }
   ],
   "source": [
    "import pandas as pd\n",
    "\n",
    "# Read data from file\n",
    "url = 'https://raw.githubusercontent.com/freeCodeCamp/boilerplate-demographic-data-analyzer/main/adult.data.csv'\n",
    "df = pd.read_csv(url)\n",
    "df.head(5)"
   ]
  },
  {
   "cell_type": "code",
   "execution_count": 13,
   "id": "fd5a5b37-2f90-445c-96f3-1d8431497add",
   "metadata": {
    "tags": []
   },
   "outputs": [
    {
     "data": {
      "text/plain": [
       "5"
      ]
     },
     "execution_count": 13,
     "metadata": {},
     "output_type": "execute_result"
    }
   ],
   "source": [
    "race_count = len(df['race'].unique())\n",
    "race_count"
   ]
  },
  {
   "cell_type": "code",
   "execution_count": 16,
   "id": "a3217ea1-b9ef-4a80-84f6-47da3138f8dd",
   "metadata": {
    "tags": []
   },
   "outputs": [
    {
     "data": {
      "text/plain": [
       "age                                                         1256257\n",
       "workclass         State-govSelf-emp-not-incPrivatePrivatePrivate...\n",
       "fnlwgt                                                   6179373392\n",
       "education         BachelorsBachelorsHS-grad11thBachelorsMasters9...\n",
       "education-num                                                328237\n",
       "marital-status    Never-marriedMarried-civ-spouseDivorcedMarried...\n",
       "occupation        Adm-clericalExec-managerialHandlers-cleanersHa...\n",
       "relationship      Not-in-familyHusbandNot-in-familyHusbandWifeWi...\n",
       "race              WhiteWhiteWhiteBlackBlackWhiteBlackWhiteWhiteW...\n",
       "sex               MaleMaleMaleMaleFemaleFemaleFemaleMaleFemaleMa...\n",
       "capital-gain                                               35089324\n",
       "capital-loss                                                2842700\n",
       "hours-per-week                                              1316684\n",
       "native-country    United-StatesUnited-StatesUnited-StatesUnited-...\n",
       "salary            <=50K<=50K<=50K<=50K<=50K<=50K<=50K>50K>50K>50...\n",
       "dtype: object"
      ]
     },
     "execution_count": 16,
     "metadata": {},
     "output_type": "execute_result"
    }
   ],
   "source": [
    "df.sum()"
   ]
  },
  {
   "cell_type": "code",
   "execution_count": 33,
   "id": "077e8af6-ee82-4d55-b2d0-6262fa0c25c5",
   "metadata": {
    "tags": []
   },
   "outputs": [
    {
     "data": {
      "text/plain": [
       "16.44605509658794"
      ]
     },
     "execution_count": 33,
     "metadata": {},
     "output_type": "execute_result"
    }
   ],
   "source": [
    "(sum(df['education']=='Bachelors')/len(df))*100\n"
   ]
  },
  {
   "cell_type": "code",
   "execution_count": 34,
   "id": "c6405d2a-1884-438f-a7e3-2433a3200db8",
   "metadata": {
    "tags": []
   },
   "outputs": [
    {
     "name": "stdout",
     "output_type": "stream",
     "text": [
      "16.45%\n"
     ]
    }
   ],
   "source": [
    "percentage_bachelors = (sum(df['education']=='Bachelors')/len(df))*100\n",
    "print(f\"{percentage_bachelors:.2f}%\")"
   ]
  },
  {
   "cell_type": "code",
   "execution_count": null,
   "id": "fd64b452-0d65-4292-bc6f-870775b5da24",
   "metadata": {},
   "outputs": [],
   "source": [
    "df['education'].unique()"
   ]
  },
  {
   "cell_type": "markdown",
   "id": "c8e9926e-e958-4ac1-a081-9341ba8c44df",
   "metadata": {},
   "source": [
    " What percentage of people with advanced education (`Bachelors`, `Masters`, or `Doctorate`) make more than 50K?\n",
    " What percentage of people without advanced education make more than 50K?\n",
    "\n",
    "with and without `Bachelors`, `Masters`, or `Doctorate`\n",
    "\n",
    "higher_education = None\n",
    "\n",
    "lower_education = None"
   ]
  },
  {
   "cell_type": "code",
   "execution_count": 42,
   "id": "87284e1e-c627-489b-92ad-b8b9cff50715",
   "metadata": {
    "tags": []
   },
   "outputs": [
    {
     "data": {
      "text/plain": [
       "array(['Bachelors', 'HS-grad', '11th', 'Masters', '9th', 'Some-college',\n",
       "       'Assoc-acdm', 'Assoc-voc', '7th-8th', 'Doctorate', 'Prof-school',\n",
       "       '5th-6th', '10th', '1st-4th', 'Preschool', '12th'], dtype=object)"
      ]
     },
     "execution_count": 42,
     "metadata": {},
     "output_type": "execute_result"
    }
   ],
   "source": [
    "df['education'].unique()"
   ]
  },
  {
   "cell_type": "code",
   "execution_count": 47,
   "id": "d780f89e-d76b-42ef-8103-6504aef45aaf",
   "metadata": {
    "tags": []
   },
   "outputs": [
    {
     "data": {
      "text/plain": [
       "array(['<=50K', '>50K'], dtype=object)"
      ]
     },
     "execution_count": 47,
     "metadata": {},
     "output_type": "execute_result"
    }
   ],
   "source": [
    "df['salary'].unique()"
   ]
  },
  {
   "cell_type": "code",
   "execution_count": 66,
   "id": "2f2d0270-f913-445a-9899-ff342ab4da72",
   "metadata": {
    "tags": []
   },
   "outputs": [
    {
     "name": "stdout",
     "output_type": "stream",
     "text": [
      "32561\n",
      "7491\n",
      "3486\n",
      "25070\n",
      "4355\n"
     ]
    }
   ],
   "source": [
    "higher_education = df[df['education'].isin(['Bachelors', 'Masters', 'Doctorate'])]\n",
    "lower_education = df[~df['education'].isin(['Bachelors', 'Masters', 'Doctorate'])]\n",
    "HS_higher_education = higher_education[higher_education.salary == '>50K']\n",
    "HS_lower_education = lower_education[lower_education.salary == '>50K']\n",
    "\n",
    "print(len(df))\n",
    "print(len(higher_education))\n",
    "print(len(HS_higher_education))\n",
    "print(len(lower_education))\n",
    "print(len(HS_lower_education))\n"
   ]
  },
  {
   "cell_type": "code",
   "execution_count": 63,
   "id": "2493153d-6e60-472e-b4d4-fa7250feb1e5",
   "metadata": {
    "tags": []
   },
   "outputs": [
    {
     "name": "stdout",
     "output_type": "stream",
     "text": [
      "['HS-grad' '11th' '9th' 'Some-college' 'Assoc-acdm' 'Assoc-voc' '7th-8th'\n",
      " 'Prof-school' '5th-6th' '10th' '1st-4th' 'Preschool' '12th']\n",
      "['Bachelors' 'Masters' 'Doctorate']\n"
     ]
    }
   ],
   "source": [
    "print(lower_education['education'].unique())\n",
    "print(higher_education['education'].unique())"
   ]
  },
  {
   "cell_type": "code",
   "execution_count": null,
   "id": "38127c08-0c59-4654-9eb7-d8ae19b6556a",
   "metadata": {},
   "outputs": [],
   "source": []
  },
  {
   "cell_type": "code",
   "execution_count": 71,
   "id": "df3f7704-5430-419f-9423-ede83cd4352f",
   "metadata": {
    "tags": []
   },
   "outputs": [
    {
     "name": "stdout",
     "output_type": "stream",
     "text": [
      "46.535843011613935\n",
      "17.3713601914639\n"
     ]
    }
   ],
   "source": [
    "  # with and without `Bachelors`, `Masters`, or `Doctorate`\n",
    "higher_education = df[df['education'].isin(['Bachelors', 'Masters', 'Doctorate'])]\n",
    "lower_education = df[~df['education'].isin(['Bachelors', 'Masters', 'Doctorate'])]\n",
    "\n",
    "    # percentage with salary >50K\n",
    "higher_education_rich = (len(higher_education[higher_education.salary == '>50K'])/len(higher_education))*100\n",
    "lower_education_rich = (len(lower_education[lower_education.salary == '>50K'])/len(lower_education))*100\n",
    "\n"
   ]
  },
  {
   "cell_type": "markdown",
   "id": "3891fa9f-d052-4ae0-9749-2805e10760e2",
   "metadata": {},
   "source": [
    "What is the minimum number of hours a person works per week (hours-per-week feature)?\n",
    "\n",
    "min_work_hours = None"
   ]
  },
  {
   "cell_type": "code",
   "execution_count": 73,
   "id": "dd297811-22ef-4203-8bd0-aca05fe0933a",
   "metadata": {
    "tags": []
   },
   "outputs": [
    {
     "data": {
      "text/plain": [
       "1"
      ]
     },
     "execution_count": 73,
     "metadata": {},
     "output_type": "execute_result"
    }
   ],
   "source": [
    "df['hours-per-week'].min()"
   ]
  },
  {
   "cell_type": "code",
   "execution_count": 82,
   "id": "1ecf9767-0b29-4fda-9789-e3e2b1f6ce88",
   "metadata": {
    "tags": []
   },
   "outputs": [
    {
     "data": {
      "text/plain": [
       "0"
      ]
     },
     "execution_count": 82,
     "metadata": {},
     "output_type": "execute_result"
    }
   ],
   "source": [
    "min_work_hours = df['hours-per-week'].min()\n",
    "sum(df['hours-per-week'] == min_work_hours)\n",
    "sum(df[df['hours-per-week'] == min_work_hours].salary == '>50k')"
   ]
  },
  {
   "cell_type": "code",
   "execution_count": 83,
   "id": "56e7d028-2010-4f6f-bdc9-d2167f22a5eb",
   "metadata": {
    "tags": []
   },
   "outputs": [
    {
     "data": {
      "text/html": [
       "<div>\n",
       "<style scoped>\n",
       "    .dataframe tbody tr th:only-of-type {\n",
       "        vertical-align: middle;\n",
       "    }\n",
       "\n",
       "    .dataframe tbody tr th {\n",
       "        vertical-align: top;\n",
       "    }\n",
       "\n",
       "    .dataframe thead th {\n",
       "        text-align: right;\n",
       "    }\n",
       "</style>\n",
       "<table border=\"1\" class=\"dataframe\">\n",
       "  <thead>\n",
       "    <tr style=\"text-align: right;\">\n",
       "      <th></th>\n",
       "      <th>age</th>\n",
       "      <th>workclass</th>\n",
       "      <th>fnlwgt</th>\n",
       "      <th>education</th>\n",
       "      <th>education-num</th>\n",
       "      <th>marital-status</th>\n",
       "      <th>occupation</th>\n",
       "      <th>relationship</th>\n",
       "      <th>race</th>\n",
       "      <th>sex</th>\n",
       "      <th>capital-gain</th>\n",
       "      <th>capital-loss</th>\n",
       "      <th>hours-per-week</th>\n",
       "      <th>native-country</th>\n",
       "      <th>salary</th>\n",
       "    </tr>\n",
       "  </thead>\n",
       "  <tbody>\n",
       "  </tbody>\n",
       "</table>\n",
       "</div>"
      ],
      "text/plain": [
       "Empty DataFrame\n",
       "Columns: [age, workclass, fnlwgt, education, education-num, marital-status, occupation, relationship, race, sex, capital-gain, capital-loss, hours-per-week, native-country, salary]\n",
       "Index: []"
      ]
     },
     "execution_count": 83,
     "metadata": {},
     "output_type": "execute_result"
    }
   ],
   "source": [
    "df[(df['hours-per-week'] == min_work_hours) & (df['salary'] == '>50k')]"
   ]
  },
  {
   "cell_type": "markdown",
   "id": "284a544e-050b-4c94-a4e3-afc1d6fcf1aa",
   "metadata": {},
   "source": [
    "What country has the highest percentage of people that earn >50K?"
   ]
  },
  {
   "cell_type": "code",
   "execution_count": 88,
   "id": "a977f70b-0af6-4ad6-82b8-a37fa4f37637",
   "metadata": {
    "tags": []
   },
   "outputs": [
    {
     "data": {
      "text/plain": [
       "native-country\n",
       "?                             25.042882\n",
       "Cambodia                      36.842105\n",
       "Canada                        32.231405\n",
       "China                         26.666667\n",
       "Columbia                       3.389831\n",
       "Cuba                          26.315789\n",
       "Dominican-Republic             2.857143\n",
       "Ecuador                       14.285714\n",
       "El-Salvador                    8.490566\n",
       "England                       33.333333\n",
       "France                        41.379310\n",
       "Germany                       32.116788\n",
       "Greece                        27.586207\n",
       "Guatemala                      4.687500\n",
       "Haiti                          9.090909\n",
       "Holand-Netherlands             0.000000\n",
       "Honduras                       7.692308\n",
       "Hong                          30.000000\n",
       "Hungary                       23.076923\n",
       "India                         40.000000\n",
       "Iran                          41.860465\n",
       "Ireland                       20.833333\n",
       "Italy                         34.246575\n",
       "Jamaica                       12.345679\n",
       "Japan                         38.709677\n",
       "Laos                          11.111111\n",
       "Mexico                         5.132193\n",
       "Nicaragua                      5.882353\n",
       "Outlying-US(Guam-USVI-etc)     0.000000\n",
       "Peru                           6.451613\n",
       "Philippines                   30.808081\n",
       "Poland                        20.000000\n",
       "Portugal                      10.810811\n",
       "Puerto-Rico                   10.526316\n",
       "Scotland                      25.000000\n",
       "South                         20.000000\n",
       "Taiwan                        39.215686\n",
       "Thailand                      16.666667\n",
       "Trinadad&Tobago               10.526316\n",
       "United-States                 24.583476\n",
       "Vietnam                        7.462687\n",
       "Yugoslavia                    37.500000\n",
       "Name: salary, dtype: float64"
      ]
     },
     "execution_count": 88,
     "metadata": {},
     "output_type": "execute_result"
    }
   ],
   "source": [
    "percentage_high_income_by_country = df.groupby('native-country')['salary'].apply(lambda x: (x == '>50K').mean() * 100)\n",
    "percentage_high_income_by_country"
   ]
  },
  {
   "cell_type": "markdown",
   "id": "635b622f-ac08-429a-8a20-d7528582ae26",
   "metadata": {
    "tags": []
   },
   "source": [
    "Identify the most popular occupation for those who earn >50K in India.\n",
    "\n",
    "top_IN_occupation = 1\n",
    "    "
   ]
  },
  {
   "cell_type": "code",
   "execution_count": 105,
   "id": "f9699449-a31e-4f82-813e-188e4003944b",
   "metadata": {
    "tags": []
   },
   "outputs": [
    {
     "data": {
      "text/plain": [
       "'Prof-specialty'"
      ]
     },
     "execution_count": 105,
     "metadata": {},
     "output_type": "execute_result"
    }
   ],
   "source": [
    "df[(df['native-country'] == 'India') & (df['salary'] == '>50K')]['occupation'].value_counts().idxmax()"
   ]
  },
  {
   "cell_type": "code",
   "execution_count": null,
   "id": "34848a30-77eb-4c46-8308-93b860be83de",
   "metadata": {},
   "outputs": [],
   "source": [
    "df.groupby('native-country')['salary'].apply(lambda x: (x == '>50K').mean() * 100)\n"
   ]
  },
  {
   "cell_type": "code",
   "execution_count": 110,
   "id": "a726ab05-1578-4d50-aff9-14cf58ff350f",
   "metadata": {
    "tags": []
   },
   "outputs": [],
   "source": [
    "n_by_nation = df['native-country'].value_counts()\n",
    "n_by_nation_rich = df[df['salary'] == '>50K']['native-country'].value_counts()\n",
    "(n_by_nation_rich/n_by_nation).idxmax()"
   ]
  },
  {
   "cell_type": "code",
   "execution_count": 123,
   "id": "09a6bcce-9116-4311-a5e0-d1601024bcc2",
   "metadata": {
    "tags": []
   },
   "outputs": [
    {
     "name": "stdout",
     "output_type": "stream",
     "text": [
      "Object `idxmax` not found.\n"
     ]
    }
   ],
   "source": [
    "idxmax?"
   ]
  },
  {
   "cell_type": "code",
   "execution_count": 126,
   "id": "d26f0f6d-e0b5-47ad-b910-b75608ff0b0e",
   "metadata": {
    "tags": []
   },
   "outputs": [
    {
     "data": {
      "text/plain": [
       "41.86046511627907"
      ]
     },
     "execution_count": 126,
     "metadata": {},
     "output_type": "execute_result"
    }
   ],
   "source": [
    "((df[df['salary'] == '>50K']['native-country'].value_counts())/(df['native-country'].value_counts())).max()*100"
   ]
  },
  {
   "cell_type": "markdown",
   "id": "6cfdcea2-afb0-4b07-a898-a4d7a58201b5",
   "metadata": {
    "tags": []
   },
   "source": [
    "### RESPUESTA:"
   ]
  },
  {
   "cell_type": "code",
   "execution_count": 93,
   "id": "e9873f88-bde5-481b-bf59-a57ad046e4d8",
   "metadata": {
    "tags": []
   },
   "outputs": [
    {
     "data": {
      "text/plain": [
       "<function __main__.calculate_demographic_data(print_data=True)>"
      ]
     },
     "execution_count": 93,
     "metadata": {},
     "output_type": "execute_result"
    }
   ],
   "source": [
    "import pandas as pd\n",
    "\n",
    "\n",
    "def calculate_demographic_data(print_data=True):\n",
    "    # Read data from file\n",
    "    url = 'adult.data.csv'\n",
    "    df = pd.read_csv(url)\n",
    "\n",
    "    # How many of each race are represented in this dataset? This should be a Pandas series with race names as the index labels.\n",
    "    race_count = df['race'].value_counts()\n",
    "\n",
    "    # What is the average age of men?\n",
    "    average_age_men = round(df[df['sex'] == 'Male']['age'].mean(),1)\n",
    "\n",
    "    # What is the percentage of people who have a Bachelor's degree?\n",
    "    percentage_bachelors = round((sum(df['education']=='Bachelors')/len(df))*100,1)\n",
    "\n",
    "    # What percentage of people with advanced education (`Bachelors`, `Masters`, or `Doctorate`) make more than 50K?\n",
    "    # What percentage of people without advanced education make more than 50K?\n",
    "\n",
    "    # with and without `Bachelors`, `Masters`, or `Doctorate`\n",
    "    higher_education = round(df[df['education'].isin(['Bachelors', 'Masters', 'Doctorate'])],1)\n",
    "    lower_education = round(df[~df['education'].isin(['Bachelors', 'Masters', 'Doctorate'])],1)\n",
    "\n",
    "    # percentage with salary >50K\n",
    "    higher_education_rich = round((len(higher_education[higher_education.salary =='>50K'])/len(higher_education))*100,1)\n",
    "    lower_education_rich = round((len(lower_education[lower_education.salary == '>50K'])/len(lower_education))*100,1)\n",
    "\n",
    "    # What is the minimum number of hours a person works per week (hours-per-week feature)?\n",
    "    min_work_hours = df['hours-per-week'].min()\n",
    "\n",
    "    # What percentage of the people who work the minimum number of hours per week have a salary of >50K?\n",
    "    num_min_workers = (sum(df['hours-per-week'] == min_work_hours))\n",
    "\n",
    "    rich_percentage = ((sum(df[df['hours-per-week'] == min_work_hours].salary == '>50K'))/(num_min_workers))*100\n",
    "\n",
    "    # What country has the highest percentage of people that earn >50K?\n",
    "    highest_earning_country = ((df[df['salary'] == '>50K']['native-country'].value_counts())/(df['native-country'].value_counts())).idxmax()\n",
    "    highest_earning_country_percentage = round(((df[df['salary'] == '>50K']['native-country'].value_counts())/(df['native-country'].value_counts())).max()*100,1)\n",
    "\n",
    "    n_by_nation = df['native-country'].value_counts()\n",
    "    n_by_nation_rich = df[df['salary'] == '>50K']['native-country'].value_counts()\n",
    "    (n_by_nation_rich/n_by_nation).idxmax()\n",
    "\n",
    "    # Identify the most popular occupation for those who earn >50K in India.\n",
    "    top_IN_occupation = df[(df['native-country'] == 'India') & (df['salary'] == '>50K')]['occupation'].value_counts().idxmax()\n",
    "\n",
    "    # DO NOT MODIFY BELOW THIS LINE\n",
    "\n",
    "    if print_data:\n",
    "        print(\"Number of each race:\\n\", race_count) \n",
    "        print(\"Average age of men:\", average_age_men)\n",
    "        print(f\"Percentage with Bachelors degrees: {percentage_bachelors}%\")\n",
    "        print(f\"Percentage with higher education that earn >50K: {higher_education_rich}%\")\n",
    "        print(f\"Percentage without higher education that earn >50K: {lower_education_rich}%\")\n",
    "        print(f\"Min work time: {min_work_hours} hours/week\")\n",
    "        print(f\"Percentage of rich among those who work fewest hours: {rich_percentage}%\")\n",
    "        print(\"Country with highest percentage of rich:\", highest_earning_country)\n",
    "        print(f\"Highest percentage of rich people in country: {highest_earning_country_percentage}%\")\n",
    "        print(\"Top occupations in India:\", top_IN_occupation)\n",
    "\n",
    "    return {\n",
    "        'race_count': race_count,\n",
    "        'average_age_men': average_age_men,\n",
    "        'percentage_bachelors': percentage_bachelors,\n",
    "        'higher_education_rich': higher_education_rich,\n",
    "        'lower_education_rich': lower_education_rich,\n",
    "        'min_work_hours': min_work_hours,\n",
    "        'rich_percentage': rich_percentage,\n",
    "        'highest_earning_country': highest_earning_country,\n",
    "        'highest_earning_country_percentage':highest_earning_country_percentage,\n",
    "        'top_IN_occupation': top_IN_occupation\n",
    "    }\n"
   ]
  },
  {
   "cell_type": "code",
   "execution_count": null,
   "id": "c19e2da7-0f39-4647-b862-cef2157d9b7b",
   "metadata": {},
   "outputs": [],
   "source": []
  }
 ],
 "metadata": {
  "kernelspec": {
   "display_name": "Python 3 (ipykernel)",
   "language": "python",
   "name": "python3"
  },
  "language_info": {
   "codemirror_mode": {
    "name": "ipython",
    "version": 3
   },
   "file_extension": ".py",
   "mimetype": "text/x-python",
   "name": "python",
   "nbconvert_exporter": "python",
   "pygments_lexer": "ipython3",
   "version": "3.10.12"
  }
 },
 "nbformat": 4,
 "nbformat_minor": 5
}
